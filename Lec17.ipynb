{
 "cells": [
  {
   "cell_type": "code",
   "execution_count": 2,
   "metadata": {
    "collapsed": false
   },
   "outputs": [],
   "source": [
    "import numpy as np\n",
    "import pandas as pd\n",
    "from pandas import Series, DataFrame\n",
    "from numpy.random import randn"
   ]
  },
  {
   "cell_type": "code",
   "execution_count": 3,
   "metadata": {
    "collapsed": true
   },
   "outputs": [],
   "source": [
    "ser1 = Series([1,2,3,4], index=['A', 'B', 'C', 'D'])"
   ]
  },
  {
   "cell_type": "code",
   "execution_count": 4,
   "metadata": {
    "collapsed": false
   },
   "outputs": [
    {
     "data": {
      "text/plain": [
       "A    1\n",
       "B    2\n",
       "C    3\n",
       "D    4\n",
       "dtype: int64"
      ]
     },
     "execution_count": 4,
     "metadata": {},
     "output_type": "execute_result"
    }
   ],
   "source": [
    "ser1"
   ]
  },
  {
   "cell_type": "code",
   "execution_count": 8,
   "metadata": {
    "collapsed": true
   },
   "outputs": [],
   "source": [
    "ser2 = ser1.reindex(['A', 'B', 'C', 'D', 'E', 'F'])"
   ]
  },
  {
   "cell_type": "code",
   "execution_count": 9,
   "metadata": {
    "collapsed": false
   },
   "outputs": [
    {
     "data": {
      "text/plain": [
       "A    1.0\n",
       "B    2.0\n",
       "C    3.0\n",
       "D    4.0\n",
       "E    NaN\n",
       "F    NaN\n",
       "dtype: float64"
      ]
     },
     "execution_count": 9,
     "metadata": {},
     "output_type": "execute_result"
    }
   ],
   "source": [
    "ser2"
   ]
  },
  {
   "cell_type": "code",
   "execution_count": 10,
   "metadata": {
    "collapsed": false
   },
   "outputs": [
    {
     "data": {
      "text/plain": [
       "A    1.0\n",
       "B    2.0\n",
       "C    3.0\n",
       "D    4.0\n",
       "E    NaN\n",
       "F    NaN\n",
       "G    0.0\n",
       "dtype: float64"
      ]
     },
     "execution_count": 10,
     "metadata": {},
     "output_type": "execute_result"
    }
   ],
   "source": [
    "ser2.reindex(['A', 'B', 'C', 'D', 'E', 'F','G'], fill_value=0)"
   ]
  },
  {
   "cell_type": "code",
   "execution_count": 11,
   "metadata": {
    "collapsed": true
   },
   "outputs": [],
   "source": [
    "ser3 = Series(['USA', 'Mexico', 'Canada'], index=[0,5,10])"
   ]
  },
  {
   "cell_type": "code",
   "execution_count": 12,
   "metadata": {
    "collapsed": false
   },
   "outputs": [
    {
     "data": {
      "text/plain": [
       "0        USA\n",
       "5     Mexico\n",
       "10    Canada\n",
       "dtype: object"
      ]
     },
     "execution_count": 12,
     "metadata": {},
     "output_type": "execute_result"
    }
   ],
   "source": [
    "ser3"
   ]
  },
  {
   "cell_type": "code",
   "execution_count": 13,
   "metadata": {
    "collapsed": false
   },
   "outputs": [
    {
     "data": {
      "text/plain": [
       "0        USA\n",
       "1        USA\n",
       "2        USA\n",
       "3        USA\n",
       "4        USA\n",
       "5     Mexico\n",
       "6     Mexico\n",
       "7     Mexico\n",
       "8     Mexico\n",
       "9     Mexico\n",
       "10    Canada\n",
       "11    Canada\n",
       "12    Canada\n",
       "13    Canada\n",
       "14    Canada\n",
       "dtype: object"
      ]
     },
     "execution_count": 13,
     "metadata": {},
     "output_type": "execute_result"
    }
   ],
   "source": [
    "ser3.reindex(range(15), method='ffill')"
   ]
  },
  {
   "cell_type": "code",
   "execution_count": 18,
   "metadata": {
    "collapsed": false
   },
   "outputs": [],
   "source": [
    "dframe = DataFrame(randn(25).reshape((5,5)), index=['A', 'B', 'C', 'E', 'F'], columns=['col1', 'col2', 'col3', 'col4', 'col5'])"
   ]
  },
  {
   "cell_type": "code",
   "execution_count": 19,
   "metadata": {
    "collapsed": false
   },
   "outputs": [
    {
     "data": {
      "text/html": [
       "<div>\n",
       "<table border=\"1\" class=\"dataframe\">\n",
       "  <thead>\n",
       "    <tr style=\"text-align: right;\">\n",
       "      <th></th>\n",
       "      <th>col1</th>\n",
       "      <th>col2</th>\n",
       "      <th>col3</th>\n",
       "      <th>col4</th>\n",
       "      <th>col5</th>\n",
       "    </tr>\n",
       "  </thead>\n",
       "  <tbody>\n",
       "    <tr>\n",
       "      <th>A</th>\n",
       "      <td>1.076666</td>\n",
       "      <td>0.340683</td>\n",
       "      <td>1.795164</td>\n",
       "      <td>-0.683083</td>\n",
       "      <td>-1.312070</td>\n",
       "    </tr>\n",
       "    <tr>\n",
       "      <th>B</th>\n",
       "      <td>0.340929</td>\n",
       "      <td>0.147803</td>\n",
       "      <td>-1.115168</td>\n",
       "      <td>0.092627</td>\n",
       "      <td>1.788278</td>\n",
       "    </tr>\n",
       "    <tr>\n",
       "      <th>C</th>\n",
       "      <td>-1.219002</td>\n",
       "      <td>0.281038</td>\n",
       "      <td>0.578008</td>\n",
       "      <td>-0.940282</td>\n",
       "      <td>3.024387</td>\n",
       "    </tr>\n",
       "    <tr>\n",
       "      <th>E</th>\n",
       "      <td>0.100513</td>\n",
       "      <td>-0.437291</td>\n",
       "      <td>2.005174</td>\n",
       "      <td>-0.141169</td>\n",
       "      <td>2.187756</td>\n",
       "    </tr>\n",
       "    <tr>\n",
       "      <th>F</th>\n",
       "      <td>1.369973</td>\n",
       "      <td>-1.126140</td>\n",
       "      <td>-2.608828</td>\n",
       "      <td>-0.959859</td>\n",
       "      <td>-0.158000</td>\n",
       "    </tr>\n",
       "  </tbody>\n",
       "</table>\n",
       "</div>"
      ],
      "text/plain": [
       "       col1      col2      col3      col4      col5\n",
       "A  1.076666  0.340683  1.795164 -0.683083 -1.312070\n",
       "B  0.340929  0.147803 -1.115168  0.092627  1.788278\n",
       "C -1.219002  0.281038  0.578008 -0.940282  3.024387\n",
       "E  0.100513 -0.437291  2.005174 -0.141169  2.187756\n",
       "F  1.369973 -1.126140 -2.608828 -0.959859 -0.158000"
      ]
     },
     "execution_count": 19,
     "metadata": {},
     "output_type": "execute_result"
    }
   ],
   "source": [
    "dframe"
   ]
  },
  {
   "cell_type": "code",
   "execution_count": 21,
   "metadata": {
    "collapsed": true
   },
   "outputs": [],
   "source": [
    "new_index = ['A','B','C','D','E','F']\n",
    "dframe2 = dframe.reindex(new_index)"
   ]
  },
  {
   "cell_type": "code",
   "execution_count": 22,
   "metadata": {
    "collapsed": false
   },
   "outputs": [
    {
     "data": {
      "text/html": [
       "<div>\n",
       "<table border=\"1\" class=\"dataframe\">\n",
       "  <thead>\n",
       "    <tr style=\"text-align: right;\">\n",
       "      <th></th>\n",
       "      <th>col1</th>\n",
       "      <th>col2</th>\n",
       "      <th>col3</th>\n",
       "      <th>col4</th>\n",
       "      <th>col5</th>\n",
       "    </tr>\n",
       "  </thead>\n",
       "  <tbody>\n",
       "    <tr>\n",
       "      <th>A</th>\n",
       "      <td>1.076666</td>\n",
       "      <td>0.340683</td>\n",
       "      <td>1.795164</td>\n",
       "      <td>-0.683083</td>\n",
       "      <td>-1.312070</td>\n",
       "    </tr>\n",
       "    <tr>\n",
       "      <th>B</th>\n",
       "      <td>0.340929</td>\n",
       "      <td>0.147803</td>\n",
       "      <td>-1.115168</td>\n",
       "      <td>0.092627</td>\n",
       "      <td>1.788278</td>\n",
       "    </tr>\n",
       "    <tr>\n",
       "      <th>C</th>\n",
       "      <td>-1.219002</td>\n",
       "      <td>0.281038</td>\n",
       "      <td>0.578008</td>\n",
       "      <td>-0.940282</td>\n",
       "      <td>3.024387</td>\n",
       "    </tr>\n",
       "    <tr>\n",
       "      <th>D</th>\n",
       "      <td>NaN</td>\n",
       "      <td>NaN</td>\n",
       "      <td>NaN</td>\n",
       "      <td>NaN</td>\n",
       "      <td>NaN</td>\n",
       "    </tr>\n",
       "    <tr>\n",
       "      <th>E</th>\n",
       "      <td>0.100513</td>\n",
       "      <td>-0.437291</td>\n",
       "      <td>2.005174</td>\n",
       "      <td>-0.141169</td>\n",
       "      <td>2.187756</td>\n",
       "    </tr>\n",
       "    <tr>\n",
       "      <th>F</th>\n",
       "      <td>1.369973</td>\n",
       "      <td>-1.126140</td>\n",
       "      <td>-2.608828</td>\n",
       "      <td>-0.959859</td>\n",
       "      <td>-0.158000</td>\n",
       "    </tr>\n",
       "  </tbody>\n",
       "</table>\n",
       "</div>"
      ],
      "text/plain": [
       "       col1      col2      col3      col4      col5\n",
       "A  1.076666  0.340683  1.795164 -0.683083 -1.312070\n",
       "B  0.340929  0.147803 -1.115168  0.092627  1.788278\n",
       "C -1.219002  0.281038  0.578008 -0.940282  3.024387\n",
       "D       NaN       NaN       NaN       NaN       NaN\n",
       "E  0.100513 -0.437291  2.005174 -0.141169  2.187756\n",
       "F  1.369973 -1.126140 -2.608828 -0.959859 -0.158000"
      ]
     },
     "execution_count": 22,
     "metadata": {},
     "output_type": "execute_result"
    }
   ],
   "source": [
    "dframe2"
   ]
  },
  {
   "cell_type": "code",
   "execution_count": 23,
   "metadata": {
    "collapsed": false
   },
   "outputs": [
    {
     "data": {
      "text/html": [
       "<div>\n",
       "<table border=\"1\" class=\"dataframe\">\n",
       "  <thead>\n",
       "    <tr style=\"text-align: right;\">\n",
       "      <th></th>\n",
       "      <th>col1</th>\n",
       "      <th>col2</th>\n",
       "      <th>col3</th>\n",
       "      <th>col4</th>\n",
       "      <th>col5</th>\n",
       "      <th>col6</th>\n",
       "    </tr>\n",
       "  </thead>\n",
       "  <tbody>\n",
       "    <tr>\n",
       "      <th>A</th>\n",
       "      <td>1.076666</td>\n",
       "      <td>0.340683</td>\n",
       "      <td>1.795164</td>\n",
       "      <td>-0.683083</td>\n",
       "      <td>-1.312070</td>\n",
       "      <td>NaN</td>\n",
       "    </tr>\n",
       "    <tr>\n",
       "      <th>B</th>\n",
       "      <td>0.340929</td>\n",
       "      <td>0.147803</td>\n",
       "      <td>-1.115168</td>\n",
       "      <td>0.092627</td>\n",
       "      <td>1.788278</td>\n",
       "      <td>NaN</td>\n",
       "    </tr>\n",
       "    <tr>\n",
       "      <th>C</th>\n",
       "      <td>-1.219002</td>\n",
       "      <td>0.281038</td>\n",
       "      <td>0.578008</td>\n",
       "      <td>-0.940282</td>\n",
       "      <td>3.024387</td>\n",
       "      <td>NaN</td>\n",
       "    </tr>\n",
       "    <tr>\n",
       "      <th>D</th>\n",
       "      <td>NaN</td>\n",
       "      <td>NaN</td>\n",
       "      <td>NaN</td>\n",
       "      <td>NaN</td>\n",
       "      <td>NaN</td>\n",
       "      <td>NaN</td>\n",
       "    </tr>\n",
       "    <tr>\n",
       "      <th>E</th>\n",
       "      <td>0.100513</td>\n",
       "      <td>-0.437291</td>\n",
       "      <td>2.005174</td>\n",
       "      <td>-0.141169</td>\n",
       "      <td>2.187756</td>\n",
       "      <td>NaN</td>\n",
       "    </tr>\n",
       "    <tr>\n",
       "      <th>F</th>\n",
       "      <td>1.369973</td>\n",
       "      <td>-1.126140</td>\n",
       "      <td>-2.608828</td>\n",
       "      <td>-0.959859</td>\n",
       "      <td>-0.158000</td>\n",
       "      <td>NaN</td>\n",
       "    </tr>\n",
       "  </tbody>\n",
       "</table>\n",
       "</div>"
      ],
      "text/plain": [
       "       col1      col2      col3      col4      col5  col6\n",
       "A  1.076666  0.340683  1.795164 -0.683083 -1.312070   NaN\n",
       "B  0.340929  0.147803 -1.115168  0.092627  1.788278   NaN\n",
       "C -1.219002  0.281038  0.578008 -0.940282  3.024387   NaN\n",
       "D       NaN       NaN       NaN       NaN       NaN   NaN\n",
       "E  0.100513 -0.437291  2.005174 -0.141169  2.187756   NaN\n",
       "F  1.369973 -1.126140 -2.608828 -0.959859 -0.158000   NaN"
      ]
     },
     "execution_count": 23,
     "metadata": {},
     "output_type": "execute_result"
    }
   ],
   "source": [
    "new_columns = ['col1', 'col2', 'col3', 'col4', 'col5', 'col6']\n",
    "dframe2.reindex(columns=new_columns)"
   ]
  },
  {
   "cell_type": "code",
   "execution_count": 24,
   "metadata": {
    "collapsed": false
   },
   "outputs": [
    {
     "data": {
      "text/html": [
       "<div>\n",
       "<table border=\"1\" class=\"dataframe\">\n",
       "  <thead>\n",
       "    <tr style=\"text-align: right;\">\n",
       "      <th></th>\n",
       "      <th>col1</th>\n",
       "      <th>col2</th>\n",
       "      <th>col3</th>\n",
       "      <th>col4</th>\n",
       "      <th>col5</th>\n",
       "    </tr>\n",
       "  </thead>\n",
       "  <tbody>\n",
       "    <tr>\n",
       "      <th>A</th>\n",
       "      <td>1.076666</td>\n",
       "      <td>0.340683</td>\n",
       "      <td>1.795164</td>\n",
       "      <td>-0.683083</td>\n",
       "      <td>-1.312070</td>\n",
       "    </tr>\n",
       "    <tr>\n",
       "      <th>B</th>\n",
       "      <td>0.340929</td>\n",
       "      <td>0.147803</td>\n",
       "      <td>-1.115168</td>\n",
       "      <td>0.092627</td>\n",
       "      <td>1.788278</td>\n",
       "    </tr>\n",
       "    <tr>\n",
       "      <th>C</th>\n",
       "      <td>-1.219002</td>\n",
       "      <td>0.281038</td>\n",
       "      <td>0.578008</td>\n",
       "      <td>-0.940282</td>\n",
       "      <td>3.024387</td>\n",
       "    </tr>\n",
       "    <tr>\n",
       "      <th>E</th>\n",
       "      <td>0.100513</td>\n",
       "      <td>-0.437291</td>\n",
       "      <td>2.005174</td>\n",
       "      <td>-0.141169</td>\n",
       "      <td>2.187756</td>\n",
       "    </tr>\n",
       "    <tr>\n",
       "      <th>F</th>\n",
       "      <td>1.369973</td>\n",
       "      <td>-1.126140</td>\n",
       "      <td>-2.608828</td>\n",
       "      <td>-0.959859</td>\n",
       "      <td>-0.158000</td>\n",
       "    </tr>\n",
       "  </tbody>\n",
       "</table>\n",
       "</div>"
      ],
      "text/plain": [
       "       col1      col2      col3      col4      col5\n",
       "A  1.076666  0.340683  1.795164 -0.683083 -1.312070\n",
       "B  0.340929  0.147803 -1.115168  0.092627  1.788278\n",
       "C -1.219002  0.281038  0.578008 -0.940282  3.024387\n",
       "E  0.100513 -0.437291  2.005174 -0.141169  2.187756\n",
       "F  1.369973 -1.126140 -2.608828 -0.959859 -0.158000"
      ]
     },
     "execution_count": 24,
     "metadata": {},
     "output_type": "execute_result"
    }
   ],
   "source": [
    "dframe"
   ]
  },
  {
   "cell_type": "code",
   "execution_count": 25,
   "metadata": {
    "collapsed": false
   },
   "outputs": [
    {
     "data": {
      "text/html": [
       "<div>\n",
       "<table border=\"1\" class=\"dataframe\">\n",
       "  <thead>\n",
       "    <tr style=\"text-align: right;\">\n",
       "      <th></th>\n",
       "      <th>col1</th>\n",
       "      <th>col2</th>\n",
       "      <th>col3</th>\n",
       "      <th>col4</th>\n",
       "      <th>col5</th>\n",
       "      <th>col6</th>\n",
       "    </tr>\n",
       "  </thead>\n",
       "  <tbody>\n",
       "    <tr>\n",
       "      <th>A</th>\n",
       "      <td>1.076666</td>\n",
       "      <td>0.340683</td>\n",
       "      <td>1.795164</td>\n",
       "      <td>-0.683083</td>\n",
       "      <td>-1.312070</td>\n",
       "      <td>NaN</td>\n",
       "    </tr>\n",
       "    <tr>\n",
       "      <th>B</th>\n",
       "      <td>0.340929</td>\n",
       "      <td>0.147803</td>\n",
       "      <td>-1.115168</td>\n",
       "      <td>0.092627</td>\n",
       "      <td>1.788278</td>\n",
       "      <td>NaN</td>\n",
       "    </tr>\n",
       "    <tr>\n",
       "      <th>C</th>\n",
       "      <td>-1.219002</td>\n",
       "      <td>0.281038</td>\n",
       "      <td>0.578008</td>\n",
       "      <td>-0.940282</td>\n",
       "      <td>3.024387</td>\n",
       "      <td>NaN</td>\n",
       "    </tr>\n",
       "    <tr>\n",
       "      <th>D</th>\n",
       "      <td>NaN</td>\n",
       "      <td>NaN</td>\n",
       "      <td>NaN</td>\n",
       "      <td>NaN</td>\n",
       "      <td>NaN</td>\n",
       "      <td>NaN</td>\n",
       "    </tr>\n",
       "    <tr>\n",
       "      <th>E</th>\n",
       "      <td>0.100513</td>\n",
       "      <td>-0.437291</td>\n",
       "      <td>2.005174</td>\n",
       "      <td>-0.141169</td>\n",
       "      <td>2.187756</td>\n",
       "      <td>NaN</td>\n",
       "    </tr>\n",
       "    <tr>\n",
       "      <th>F</th>\n",
       "      <td>1.369973</td>\n",
       "      <td>-1.126140</td>\n",
       "      <td>-2.608828</td>\n",
       "      <td>-0.959859</td>\n",
       "      <td>-0.158000</td>\n",
       "      <td>NaN</td>\n",
       "    </tr>\n",
       "  </tbody>\n",
       "</table>\n",
       "</div>"
      ],
      "text/plain": [
       "       col1      col2      col3      col4      col5  col6\n",
       "A  1.076666  0.340683  1.795164 -0.683083 -1.312070   NaN\n",
       "B  0.340929  0.147803 -1.115168  0.092627  1.788278   NaN\n",
       "C -1.219002  0.281038  0.578008 -0.940282  3.024387   NaN\n",
       "D       NaN       NaN       NaN       NaN       NaN   NaN\n",
       "E  0.100513 -0.437291  2.005174 -0.141169  2.187756   NaN\n",
       "F  1.369973 -1.126140 -2.608828 -0.959859 -0.158000   NaN"
      ]
     },
     "execution_count": 25,
     "metadata": {},
     "output_type": "execute_result"
    }
   ],
   "source": [
    "dframe.ix[new_index, new_columns]"
   ]
  },
  {
   "cell_type": "code",
   "execution_count": null,
   "metadata": {
    "collapsed": true
   },
   "outputs": [],
   "source": []
  }
 ],
 "metadata": {
  "anaconda-cloud": {},
  "kernelspec": {
   "display_name": "Python 3",
   "language": "python",
   "name": "python3"
  },
  "language_info": {
   "codemirror_mode": {
    "name": "ipython",
    "version": 3
   },
   "file_extension": ".py",
   "mimetype": "text/x-python",
   "name": "python",
   "nbconvert_exporter": "python",
   "pygments_lexer": "ipython3",
   "version": "3.5.2"
  }
 },
 "nbformat": 4,
 "nbformat_minor": 1
}
